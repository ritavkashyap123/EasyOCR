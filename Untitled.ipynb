{
 "cells": [
  {
   "cell_type": "code",
   "execution_count": 34,
   "id": "a10c257d",
   "metadata": {},
   "outputs": [],
   "source": [
    "import easyocr\n",
    "import cv2\n",
    "from matplotlib import pyplot as plt\n",
    "import numpy as np"
   ]
  },
  {
   "cell_type": "code",
   "execution_count": 35,
   "id": "72782bd7",
   "metadata": {},
   "outputs": [],
   "source": [
    "IMAGE_PATH = 'Adhar.png'"
   ]
  },
  {
   "cell_type": "code",
   "execution_count": 36,
   "id": "505b59a1",
   "metadata": {},
   "outputs": [
    {
     "name": "stdout",
     "output_type": "stream",
     "text": [
      "[([[379, 35], [910, 35], [910, 89], [379, 89]], 'HRdl4 faleiez qodlt Atferhror', 0.014700584052567224), ([[168, 100], [208, 100], [208, 124], [168, 124]], 'On', 0.22676894431353486), ([[518, 88], [1069, 88], [1069, 150], [518, 150]], 'Identification Authority of India', 0.7832936871987879), ([[92, 163], [265, 163], [265, 204], [92, 204]], 'Address:', 0.993860547291898), ([[87, 195], [737, 195], [737, 255], [87, 255]], 'SIO3 Tarali Devi,HNO 18,R G B ROAD,', 0.4069279849808903), ([[86, 226], [735, 226], [735, 287], [86, 287]], 'AMBIKAGIRI NAGAR, Agoli PATH; Zoo', 0.6804272367650683), ([[1230, 248], [1260, 248], [1260, 292], [1230, 292]], '3', 0.2987635280924259), ([[87, 261], [453, 261], [453, 312], [87, 312]], 'Road, Kamrup Metro,', 0.9786393766327179), ([[84, 296], [205, 296], [205, 335], [84, 335]], 'Assam', 0.9999889110936236), ([[232, 298], [367, 298], [367, 338], [232, 338]], '781024', 0.8174375037394067), ([[1232, 290], [1258, 290], [1258, 358], [1232, 358]], '8', 0.9655111420148046), ([[1234, 358], [1258, 358], [1258, 408], [1234, 408]], '!', 0.29624174845594453), ([[1228, 409], [1260, 409], [1260, 554], [1228, 554]], '1', 0.5169518885670641), ([[441, 663], [919, 663], [919, 731], [441, 731]], '6355 3591 5029', 0.848655250712387), ([[467, 729], [863, 729], [863, 767], [467, 767]], 'VID : 9180 9133 1288 9932', 0.6976964011828344), ([[1059, 783], [1151, 783], [1151, 801], [1059, 801]], 'A', 0.0036566636901459587), ([[529, 805], [709, 805], [709, 826], [529, 826]], 'Repeuda', 0.00946941240762812), ([[715, 809], [805, 809], [805, 827], [715, 827]], 'o', 0.19522192102192637), ([[989, 807], [1223, 807], [1223, 827], [989, 827]], 'Lit004007', 0.006278633142793704), ([[384.1055728090001, 75.08065044950047], [523.9329254148644, 95.18376054286418], [514.8944271909999, 139.91934955049953], [375.06707458513563, 119.81623945713582]], 'Unique', 0.8000315124523723)]\n"
     ]
    }
   ],
   "source": [
    "reader = easyocr.Reader(['en'])\n",
    "output = reader.readtext(IMAGE_PATH)\n",
    "print (output)"
   ]
  },
  {
   "cell_type": "code",
   "execution_count": 37,
   "id": "abf8659f",
   "metadata": {},
   "outputs": [
    {
     "name": "stdout",
     "output_type": "stream",
     "text": [
      "([[379, 35], [910, 35], [910, 89], [379, 89]], 'HRdl4 faleiez qodlt Atferhror', 0.014700584052567224)\n"
     ]
    }
   ],
   "source": [
    "print(output.pop(0))"
   ]
  },
  {
   "cell_type": "code",
   "execution_count": null,
   "id": "d47e635e",
   "metadata": {},
   "outputs": [],
   "source": []
  },
  {
   "cell_type": "code",
   "execution_count": null,
   "id": "68b2a841",
   "metadata": {},
   "outputs": [],
   "source": []
  }
 ],
 "metadata": {
  "kernelspec": {
   "display_name": "Python 3 (ipykernel)",
   "language": "python",
   "name": "python3"
  },
  "language_info": {
   "codemirror_mode": {
    "name": "ipython",
    "version": 3
   },
   "file_extension": ".py",
   "mimetype": "text/x-python",
   "name": "python",
   "nbconvert_exporter": "python",
   "pygments_lexer": "ipython3",
   "version": "3.9.7"
  }
 },
 "nbformat": 4,
 "nbformat_minor": 5
}
