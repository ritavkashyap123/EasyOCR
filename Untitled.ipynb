{
 "cells": [
  {
   "cell_type": "code",
   "execution_count": 4,
   "id": "a10c257d",
   "metadata": {},
   "outputs": [],
   "source": [
    "import easyocr\n",
    "import cv2\n",
    "from matplotlib import pyplot as plt\n",
    "import numpy as np"
   ]
  },
  {
   "cell_type": "code",
   "execution_count": 5,
   "id": "72782bd7",
   "metadata": {},
   "outputs": [],
   "source": [
    "IMAGE_PATH = 'payment.png'"
   ]
  },
  {
   "cell_type": "code",
   "execution_count": 6,
   "id": "505b59a1",
   "metadata": {},
   "outputs": [
    {
     "name": "stderr",
     "output_type": "stream",
     "text": [
      "CUDA not available - defaulting to CPU. Note: This module is much faster with a GPU.\n"
     ]
    }
   ],
   "source": [
    "reader = easyocr.Reader(['en'])\n",
    "output = reader.readtext(IMAGE_PATH)"
   ]
  },
  {
   "cell_type": "code",
   "execution_count": 7,
   "id": "abf8659f",
   "metadata": {},
   "outputs": [
    {
     "name": "stdout",
     "output_type": "stream",
     "text": [
      "To 20-145 Kaushik Baruah\n",
      "+91 86385 69650\n",
      "R622.00\n",
      "Completed . Oct 28, 5.04 PM\n",
      "Canara Bank XXXXXX8562\n",
      "Payment started\n",
      "Payment processing by partner\n",
      "bank\n",
      "Money deposited in recipient's\n",
      "bank\n",
      "Raise dispute\n",
      "UPI transaction ID\n",
      "130154029101\n",
      "To: KAUSHIK BARUAH\n",
      "kaushikbaruah122@okhdfcbank\n",
      "From: ASHIQUE ANOWAR (Canara Bank)\n",
      "ashiqueanowar5zg@okhdfcbank\n",
      "Google transaction ID\n",
      "CICAgODmbeGUKQ\n",
      "POWERED BY LZI>\n",
      "Pay\n"
     ]
    }
   ],
   "source": [
    "for (bbox, text, prob) in output:\n",
    "    text = \"\".join ([c if ord(c)<128 else \"\" for c in text])\n",
    "    print (text)"
   ]
  },
  {
   "cell_type": "code",
   "execution_count": null,
   "id": "d47e635e",
   "metadata": {},
   "outputs": [],
   "source": []
  },
  {
   "cell_type": "code",
   "execution_count": null,
   "id": "68b2a841",
   "metadata": {},
   "outputs": [],
   "source": []
  }
 ],
 "metadata": {
  "interpreter": {
   "hash": "ba681205028fb5ed070b25e95682b8da0e3d5017278d46600ed1ee288e9f3883"
  },
  "kernelspec": {
   "display_name": "Python 3.9.7 64-bit",
   "name": "python3"
  },
  "language_info": {
   "codemirror_mode": {
    "name": "ipython",
    "version": 3
   },
   "file_extension": ".py",
   "mimetype": "text/x-python",
   "name": "python",
   "nbconvert_exporter": "python",
   "pygments_lexer": "ipython3",
   "version": "3.9.7"
  }
 },
 "nbformat": 4,
 "nbformat_minor": 5
}
